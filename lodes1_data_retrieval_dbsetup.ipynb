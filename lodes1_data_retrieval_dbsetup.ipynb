{
 "cells": [
  {
   "cell_type": "markdown",
   "metadata": {},
   "source": [
    "# Human Mobility in San Diego County\n",
    "Jessica Embury\n",
    "\n",
    "### Download LODES data for select states, decompress the files, then create/populate PostgreSQL tables and set indexes."
   ]
  },
  {
   "cell_type": "markdown",
   "metadata": {},
   "source": [
    "### Import Modules"
   ]
  },
  {
   "cell_type": "code",
   "execution_count": null,
   "metadata": {},
   "outputs": [],
   "source": [
    "#import needed libraries\n",
    "from bs4 import BeautifulSoup\n",
    "import requests\n",
    "import os\n",
    "import glob\n",
    "import gzip\n",
    "import psycopg2"
   ]
  },
  {
   "cell_type": "markdown",
   "metadata": {},
   "source": [
    "### User Entered Variables"
   ]
  },
  {
   "cell_type": "code",
   "execution_count": null,
   "metadata": {},
   "outputs": [],
   "source": [
    "#directory where this file is located and where data files will be stored\n",
    "abs_path = ''\n",
    "\n",
    "#for database \n",
    "host = ''\n",
    "db = ''\n",
    "user = ''\n",
    "password = ''\n",
    "\n",
    "schema_name = 'lodes'\n",
    "\n",
    "#For fresh start (get all files for all states), use state_num = 0 and file_num = 0\n",
    "#Change state_num and file_num if data retrieval needs to be resumed (after SSL Error, etc.)\n",
    "\n",
    "#Enter CURRENT state number\n",
    "#'az' = 0, 'ca' = 1, 'co' = 2, 'dc' = 3, 'fl' = 4, 'il' = 5, 'ma' = 6, 'mi'  = 7, \n",
    "#'mn' = 8, 'nv' = 9, 'ny' = 10, 'tx' = 11, 'wa' = 12\n",
    "state_num = 0\n",
    "\n",
    "#Enter last SUCCESSFUL file number for the current state (For example, in 'az', 71 out of 136, first file will be 72)\n",
    "file_num = 0"
   ]
  },
  {
   "cell_type": "code",
   "execution_count": null,
   "metadata": {},
   "outputs": [],
   "source": [
    "#list object containing states to get lodes data from\n",
    "states = ['az', 'ca', 'co', 'dc', 'fl', 'il', 'ma', 'mi', 'mn', 'nv', 'ny', 'tx', 'wa']\n",
    "#states = ['az', 'ca']"
   ]
  },
  {
   "cell_type": "code",
   "execution_count": null,
   "metadata": {},
   "outputs": [],
   "source": [
    "#create main folders to store state .gz and .csv files\n",
    "\n",
    "if not os.path.exists('lodes_gz'):\n",
    "    os.makedirs('lodes_gz')\n",
    "\n",
    "if not os.path.exists('lodes_csv'):\n",
    "    os.makedirs('lodes_csv')\n",
    "    \n",
    "#list of all csv folders, for deletion later\n",
    "csv_folders = []"
   ]
  },
  {
   "cell_type": "markdown",
   "metadata": {},
   "source": [
    "### Functions"
   ]
  },
  {
   "cell_type": "code",
   "execution_count": null,
   "metadata": {},
   "outputs": [],
   "source": [
    "#Function to get all file names from the associated url \n",
    "#reference: https://stackoverflow.com/questions/11023530/python-to-list-http-files-and-directories\n",
    "def listFD(url, ext=''):\n",
    "    page = requests.get(url).text\n",
    "    #print(page)\n",
    "    soup = BeautifulSoup(page, 'html.parser')\n",
    "    return [url + '/' + node.get('href') for node in soup.find_all('a') if node.get('href').endswith(ext)]\n",
    "\n",
    "#function for psycopg2 to connect to the PostgreSQL database server\n",
    "#reference: https://github.com/NaysanSaran/pandas2postgresql/blob/master/notebooks/CompleteExample.ipynb\n",
    "def connect(params_dic):\n",
    "    \"\"\" Connect to the PostgreSQL database server \"\"\"\n",
    "    conn = None\n",
    "    try:\n",
    "        # connect to the PostgreSQL server\n",
    "        print('Connecting to the PostgreSQL database...')\n",
    "        conn = psycopg2.connect(**params_dic)\n",
    "\n",
    "    except (Exception, psycopg2.DatabaseError) as error:\n",
    "        print(error)\n",
    "        sys.exit(1) \n",
    "    return conn"
   ]
  },
  {
   "cell_type": "markdown",
   "metadata": {},
   "source": [
    "### Database Implementation"
   ]
  },
  {
   "cell_type": "code",
   "execution_count": null,
   "metadata": {},
   "outputs": [],
   "source": [
    "#specify the psql connection parameters\n",
    "param_dic = {\n",
    "    \"host\"      : host,\n",
    "    \"database\"  : db,\n",
    "    \"user\"      : user,\n",
    "    \"password\"  : password\n",
    "}\n",
    "\n",
    "#connect to the database server\n",
    "conn = connect(param_dic)\n",
    "\n",
    "#define the cursor\n",
    "cur = conn.cursor()"
   ]
  },
  {
   "cell_type": "code",
   "execution_count": null,
   "metadata": {},
   "outputs": [],
   "source": [
    "#For all files for each state: download file, decompress gzip, save as csv, create and populate table is PostgreSQL\n",
    "for y in range(len(states) - state_num):\n",
    "    \n",
    "    #adjust to current state\n",
    "    i = y + state_num\n",
    "    \n",
    "    #list object to contain names of all files to be downloaded from url - for current state\n",
    "    filenames = []\n",
    "    \n",
    "    #variable for url to the current state's lodes files\n",
    "    url = 'https://lehd.ces.census.gov/data/lodes/LODES7/' + states[i] + '/od/'\n",
    "    \n",
    "    #file extension of lodes data\n",
    "    ext = 'csv.gz'\n",
    "\n",
    "    #get all file names for the current state\n",
    "    for file in listFD(url, ext):\n",
    "        #print(file)\n",
    "        filenames.append(os.path.basename(file))\n",
    "    \n",
    "    print('State: ' +states[i] + ', Number of files for ' + url +' = ' + str(len(filenames)))\n",
    "    \n",
    "    #create a state specific folder for the lodes files\n",
    "    state_lodes_folder_gz = 'lodes_gz/' + states[i]\n",
    "    if not os.path.exists(state_lodes_folder_gz):\n",
    "        os.makedirs(state_lodes_folder_gz)\n",
    "    \n",
    "    #create a folder within the above directory to save the decompressed csv files\n",
    "    state_lodes_folder_csv = 'lodes_csv/' + states[i]\n",
    "    if not os.path.exists(state_lodes_folder_csv):\n",
    "        os.makedirs(state_lodes_folder_csv)       \n",
    "    csv_folders.append(state_lodes_folder_csv)\n",
    "        \n",
    "    #for each file for the current state:\n",
    "    for z in range(len(filenames) - file_num):\n",
    "            \n",
    "        #adjust to next file\n",
    "        file = z + file_num\n",
    "        \n",
    "        #download the file\n",
    "        r = requests.get(url + filenames[file]) \n",
    "        \n",
    "        #create variable to store save paths for the .gz and .csv files\n",
    "        #remove .gz from end of string to save decompressed .csv.gz as a .csv file\n",
    "        gz_save_path = state_lodes_folder_gz + '/' + filenames[file]\n",
    "        csv_save_path = state_lodes_folder_csv + '/' + filenames[file][:-3]\n",
    "        \n",
    "        #Save as a .csv.gz file\n",
    "        with open(gz_save_path, 'wb') as f:\n",
    "            f.write(r.content)\n",
    "                \n",
    "        #decompress the .gz file and save as a .csv file\n",
    "        with open(csv_save_path, 'wb') as f:\n",
    "            f.write(gzip.decompress(r.content))\n",
    "        \n",
    "        print('State: ' + states[i] + ', Number ' + str(file + 1) + ' of ' + str(len(filenames)) + ' has been saved: ' + filenames[file][:-3])\n",
    "        \n",
    "        #if last file for state, then reset file_num to zero to start at first file for next state\n",
    "        if(file >= (len(filenames) - 1)):\n",
    "            file_num = 0\n",
    "      \n",
    "        #DATABASE SET UP\n",
    "        \n",
    "        #database table name - same as filename, but remove extensions (.csv.gz)\n",
    "        table_name = schema_name + '.' + filenames[file][:-7]\n",
    "        \n",
    "        #drop table if exists\n",
    "        drop_table = ('DROP TABLE IF EXISTS {};'.format(table_name))\n",
    "\n",
    "        try:\n",
    "            cur.execute(drop_table)\n",
    "            print('Table dropped if exists.')\n",
    "        except:\n",
    "            print(\"Error. Table (if exists) not dropped.\")\n",
    "        \n",
    "        #create table\n",
    "        create_table = ('CREATE TABLE {}(w_geocode text, h_geocode text, s000 int, sa01 int, sa02 int, sa03 int, se01 int, se02 int, se03 int, si01 int, si02 int, si03 int, createdate text);'.format(table_name))\n",
    "\n",
    "        try:\n",
    "            cur.execute(create_table)\n",
    "            print('Table created.')\n",
    "        except:\n",
    "            print(\"Error. Table not created.\")\n",
    "            \n",
    "        #populate table from csv\n",
    "        #reference: https://www.mydatahack.com/how-to-bulk-load-data-into-postgresql-with-python/\n",
    "\n",
    "        f = open(csv_save_path, \"r\")\n",
    "\n",
    "        try:\n",
    "            cur.copy_expert(\"copy {} from STDIN CSV HEADER QUOTE '\\\"'\".format(table_name), f)\n",
    "            print('Table populated.')\n",
    "        except:\n",
    "            print(\"Error. Database not populated.\")\n",
    "            \n",
    "        #create an index\n",
    "        index_name = filenames[file][:-7]\n",
    "        create_index = ('CREATE INDEX idx_{}_wh_geocode ON {} (w_geocode, h_geocode);'.format(index_name, table_name))\n",
    "        \n",
    "        try:\n",
    "            cur.execute(create_index)\n",
    "            print('Index created.')\n",
    "        except:\n",
    "            print(\"Error. Index not created.\")\n",
    "            \n",
    "    #commit database changes for each state\n",
    "    conn.commit()"
   ]
  },
  {
   "cell_type": "code",
   "execution_count": null,
   "metadata": {},
   "outputs": [],
   "source": [
    "#COMMIT AND CLOSE DATABASE\n",
    "#commit changes to the database\n",
    "conn.commit()\n",
    "\n",
    "#close the database connection\n",
    "conn.close()\n",
    "\n",
    "#close the cursor\n",
    "cur.close()"
   ]
  },
  {
   "cell_type": "markdown",
   "metadata": {},
   "source": [
    "### Delete unnecessary local files and folders"
   ]
  },
  {
   "cell_type": "code",
   "execution_count": null,
   "metadata": {},
   "outputs": [],
   "source": [
    "#delete LODES csv files\n",
    "#reference: https://linuxize.com/post/python-delete-files-and-directories/\n",
    "\n",
    "files = glob.glob(abs_path +'/lodes_csv/**/*.csv', recursive=True)\n",
    "\n",
    "for f in files:\n",
    "    try:\n",
    "        os.remove(f)\n",
    "    except OSError as e:\n",
    "        print(\"Error: %s : %s\" % (f, e.strerror))"
   ]
  },
  {
   "cell_type": "code",
   "execution_count": null,
   "metadata": {},
   "outputs": [],
   "source": [
    "#delete associated state csv folders\n",
    "for i in range(len(csv_folders)):\n",
    "    dir_path = abs_path + csv_folders[i]\n",
    "\n",
    "    try:\n",
    "        os.rmdir(dir_path)\n",
    "    except OSError as e:\n",
    "        print(\"Error: %s : %s\" % (dir_path, e.strerror))"
   ]
  },
  {
   "cell_type": "code",
   "execution_count": null,
   "metadata": {},
   "outputs": [],
   "source": [
    "#delete main csv folder\n",
    "try:\n",
    "    os.rmdir(abs_path + 'lodes_csv')\n",
    "except OSError as e:\n",
    "    print(\"Error: %s : %s\" % (dir_path, e.strerror))\n"
   ]
  }
 ],
 "metadata": {
  "kernelspec": {
   "display_name": "Python 3",
   "language": "python",
   "name": "python3"
  },
  "language_info": {
   "codemirror_mode": {
    "name": "ipython",
    "version": 3
   },
   "file_extension": ".py",
   "mimetype": "text/x-python",
   "name": "python",
   "nbconvert_exporter": "python",
   "pygments_lexer": "ipython3",
   "version": "3.7.3"
  }
 },
 "nbformat": 4,
 "nbformat_minor": 2
}